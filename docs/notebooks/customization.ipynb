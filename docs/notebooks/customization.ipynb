{
 "cells": [
  {
   "attachments": {},
   "cell_type": "markdown",
   "metadata": {},
   "source": [
    "# Customization\n",
    "\n",
    "[![Open In Colab](https://colab.research.google.com/assets/colab-badge.svg)](https://colab.research.google.com/github/cbouy/mols2grid/blob/master/docs/notebooks/customization.ipynb)\n",
    "\n",
    "The grid can be customized quite extensively, from the content that is displayed to the look of the grid and images."
   ]
  },
  {
   "cell_type": "code",
   "execution_count": null,
   "metadata": {},
   "outputs": [],
   "source": [
    "# uncomment and run if you're on Google Colab\n",
    "# !pip install mols2grid\n",
    "\n",
    "# for development purposes only\n",
    "# %load_ext autoreload\n",
    "# %autoreload 2\n",
    "# %env ANYWIDGET_HMR=1"
   ]
  },
  {
   "cell_type": "code",
   "execution_count": null,
   "metadata": {},
   "outputs": [],
   "source": [
    "import mols2grid"
   ]
  },
  {
   "attachments": {},
   "cell_type": "markdown",
   "metadata": {},
   "source": [
    "To display all the arguments available, type `help(mols2grid.display)`"
   ]
  },
  {
   "cell_type": "code",
   "execution_count": null,
   "metadata": {},
   "outputs": [],
   "source": [
    "mols2grid.display(\n",
    "    mols2grid.datafiles.SOLUBILITY_SDF,\n",
    "    # rename fields for the output document\n",
    "    rename={\"SOL\": \"Solubility\", \"SOL_classification\": \"Class\", \"NAME\": \"Name\"},\n",
    "    # set what's displayed on the grid\n",
    "    subset=[\"ID\", \"img\", \"Solubility\"],\n",
    "    # set what's displayed on the hover tooltip\n",
    "    tooltip=[\"Name\", \"SMILES\", \"Class\", \"Solubility\"],\n",
    "    # style for the grid labels and tooltips\n",
    "    style={\n",
    "        \"Solubility\": lambda x: \"color: red; font-weight: bold;\" if x < -3 else \"\",\n",
    "        \"__all__\": lambda x: \"background-color: azure;\" if x[\"Solubility\"] > -1 else \"\",\n",
    "    },\n",
    "    # change the precision and format (or other transformations)\n",
    "    transform={\"Solubility\": lambda x: round(x, 2)},\n",
    "    # sort the grid in a different order by default\n",
    "    sort_by=\"Name\",\n",
    "    # molecule drawing parameters\n",
    "    fixedBondLength=25,\n",
    "    clearBackground=False,\n",
    ")"
   ]
  },
  {
   "attachments": {},
   "cell_type": "markdown",
   "metadata": {},
   "source": [
    "See [rdkit.Chem.Draw.rdMolDraw2D.MolDrawOptions](https://www.rdkit.org/docs/source/rdkit.Chem.Draw.rdMolDraw2D.html#rdkit.Chem.Draw.rdMolDraw2D.MolDrawOptions) for the molecule drawing options available.\n",
    "\n",
    "The grid's look can also be customized to an even greater extent:"
   ]
  },
  {
   "cell_type": "code",
   "execution_count": null,
   "metadata": {},
   "outputs": [],
   "source": [
    "# some unnecessarily complicated CSS stylesheet 🌈\n",
    "# use .m2g-cell to select each grid's cell\n",
    "# or .data for every data field\n",
    "# or .data-<field> for a specific field\n",
    "css_style = \"\"\"\n",
    "/* rainbow background */\n",
    ".m2g-cell {\n",
    "    background: linear-gradient(124deg, #ff2400, #e81d1d, #e8b71d, #e3e81d, #1de840, #1ddde8, #2b1de8, #dd00f3, #dd00f3);\n",
    "    background-size: 500% 500%;\n",
    "    -webkit-animation: rainbow 10s ease infinite;\n",
    "    animation: rainbow 10s ease infinite;\n",
    "}\n",
    ".m2g-cell:hover {\n",
    "    border-color: red !important;\n",
    "}\n",
    "/* rainbow font color */\n",
    ".data {\n",
    "    font-weight: bold;\n",
    "    -webkit-text-stroke: 1px black;\n",
    "    background: linear-gradient(to right, #ef5350, #f48fb1, #7e57c2, #2196f3, #26c6da, #43a047, #eeff41, #f9a825, #ff5722);\n",
    "    -webkit-background-clip: text;\n",
    "    color: transparent;\n",
    "}\n",
    "/* background animation */\n",
    "@-webkit-keyframes rainbow {\n",
    "    0% {background-position: 0% 50%}\n",
    "    50% {background-position: 100% 50%}\n",
    "    100% {background-position: 0% 50%}\n",
    "}\n",
    "@keyframes rainbow { \n",
    "    0% {background-position: 0% 50%}\n",
    "    50% {background-position: 100% 50%}\n",
    "    100% {background-position: 0% 50%}\n",
    "}\n",
    "\"\"\"\n",
    "\n",
    "mols2grid.display(\n",
    "    mols2grid.datafiles.SOLUBILITY_SDF,\n",
    "    # RDKit drawing options\n",
    "    comicMode=True,\n",
    "    fixedBondLength=20,\n",
    "    bondLineWidth=1,\n",
    "    # custom atom colour palette (all white)\n",
    "    atomColourPalette={z: (1, 1, 1) for z in range(1, 295)},\n",
    "    # mols2grid options\n",
    "    subset=[\"NAME\", \"img\"],\n",
    "    custom_css=css_style,\n",
    "    fontfamily='\"Comic Sans MS\", \"Comic Sans\", cursive;',\n",
    "    # image size\n",
    "    size=(130, 80),\n",
    "    # number of results per page\n",
    "    n_items_per_page=20,\n",
    "    # border around each cell\n",
    "    border=\"5px ridge cyan\",\n",
    "    # gap between cells\n",
    "    gap=3,\n",
    "    # disable selection\n",
    "    selection=False,\n",
    ")"
   ]
  }
 ],
 "metadata": {
  "kernelspec": {
   "display_name": ".venv",
   "language": "python",
   "name": "python3"
  },
  "language_info": {
   "codemirror_mode": {
    "name": "ipython",
    "version": 3
   },
   "file_extension": ".py",
   "mimetype": "text/x-python",
   "name": "python",
   "nbconvert_exporter": "python",
   "pygments_lexer": "ipython3",
   "version": "3.11.11"
  }
 },
 "nbformat": 4,
 "nbformat_minor": 2
}
