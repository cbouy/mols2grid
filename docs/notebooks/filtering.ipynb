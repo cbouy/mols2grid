{
 "cells": [
  {
   "cell_type": "markdown",
   "metadata": {},
   "source": [
    "# Filtering\n",
    "\n",
    "[![Open In Colab](https://colab.research.google.com/assets/colab-badge.svg)](https://colab.research.google.com/github/cbouy/mols2grid/blob/master/docs/notebooks/filtering.ipynb)\n",
    "\n",
    "It's possible to integrate the grid with other widgets to complement the searchbar."
   ]
  },
  {
   "cell_type": "code",
   "execution_count": null,
   "metadata": {},
   "outputs": [],
   "source": [
    "# uncomment and run if you're on Google Colab\n",
    "# !pip install mols2grid\n",
    "\n",
    "# for development purposes only\n",
    "# %load_ext autoreload\n",
    "# %autoreload 2\n",
    "# %env ANYWIDGET_HMR=1"
   ]
  },
  {
   "cell_type": "code",
   "execution_count": null,
   "metadata": {},
   "outputs": [],
   "source": [
    "from ipywidgets import interact, widgets\n",
    "from rdkit.Chem import Descriptors\n",
    "\n",
    "import mols2grid"
   ]
  },
  {
   "cell_type": "markdown",
   "metadata": {},
   "source": [
    "We'll use ipywidgets to add sliders for the molecular weight and the other molecular descriptors, and define a function that queries the internal dataframe using the values in the sliders.\n",
    "\n",
    "Everytime the sliders are moved, the function is called to filter our grid."
   ]
  },
  {
   "cell_type": "code",
   "execution_count": null,
   "metadata": {},
   "outputs": [],
   "source": [
    "df = mols2grid.sdf_to_dataframe(mols2grid.datafiles.SOLUBILITY_SDF)\n",
    "# compute some descriptors\n",
    "df[\"MolWt\"] = df[\"mol\"].apply(Descriptors.ExactMolWt)\n",
    "df[\"LogP\"] = df[\"mol\"].apply(Descriptors.MolLogP)\n",
    "df[\"NumHDonors\"] = df[\"mol\"].apply(Descriptors.NumHDonors)\n",
    "df[\"NumHAcceptors\"] = df[\"mol\"].apply(Descriptors.NumHAcceptors)"
   ]
  },
  {
   "cell_type": "code",
   "execution_count": null,
   "metadata": {},
   "outputs": [],
   "source": [
    "grid = mols2grid.MolGrid(\n",
    "    df,\n",
    "    size=(120, 100),\n",
    "    name=\"filters\",\n",
    ")\n",
    "view = grid.display(n_items_per_page=12)\n",
    "\n",
    "\n",
    "@interact(\n",
    "    MolWt=widgets.IntRangeSlider(value=[0, 600], min=0, max=600, step=10),\n",
    "    LogP=widgets.IntRangeSlider(value=[-10, 10], min=-10, max=10, step=1),\n",
    "    NumHDonors=widgets.IntRangeSlider(value=[0, 20], min=0, max=20, step=1),\n",
    "    NumHAcceptors=widgets.IntRangeSlider(value=[0, 20], min=0, max=20, step=1),\n",
    ")\n",
    "def filter_grid(MolWt, LogP, NumHDonors, NumHAcceptors):\n",
    "    results = grid.dataframe.query(\n",
    "        \"@MolWt[0] <= MolWt <= @MolWt[1] and \"\n",
    "        \"@LogP[0] <= LogP <= @LogP[1] and \"\n",
    "        \"@NumHDonors[0] <= NumHDonors <= @NumHDonors[1] and \"\n",
    "        \"@NumHAcceptors[0] <= NumHAcceptors <= @NumHAcceptors[1]\"\n",
    "    )\n",
    "    return grid.filter_by_index(results.index)\n",
    "\n",
    "\n",
    "view"
   ]
  }
 ],
 "metadata": {
  "kernelspec": {
   "display_name": ".venv",
   "language": "python",
   "name": "python3"
  },
  "language_info": {
   "codemirror_mode": {
    "name": "ipython",
    "version": 3
   },
   "file_extension": ".py",
   "mimetype": "text/x-python",
   "name": "python",
   "nbconvert_exporter": "python",
   "pygments_lexer": "ipython3",
   "version": "3.11.11"
  },
  "orig_nbformat": 4
 },
 "nbformat": 4,
 "nbformat_minor": 2
}
